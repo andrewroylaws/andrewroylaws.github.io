{
 "cells": [
  {
   "cell_type": "code",
   "execution_count": 1,
   "metadata": {},
   "outputs": [],
   "source": [
    "# Author: Andrew Laws\n",
    "# Date: 3/22/2021\n",
    "\n",
    "#Set environment\n",
    "arcpy.env.workspace = \"C:\\\\Users\\\\alaws2\\\\OneDrive - University of Nebraska-Lincoln\\\\Spring 2021 Courses\\\\PSA for GIS\\\\Lab4\"\n",
    "\n",
    "#Set original datadata\n",
    "lancaster =  \"lancaster_county.shp\"\n",
    "stpark = 'State_Park_Locations.shp'\n",
    "munic = 'Municipal_Boundaries.shp'\n",
    "streams = \"Streams_303_d_.shp\"\n",
    "dem = \"ned30lc.tif\"\n",
    "landco = \"nlcd_lc_14n.tif\""
   ]
  },
  {
   "cell_type": "code",
   "execution_count": null,
   "metadata": {},
   "outputs": [],
   "source": [
    "# Suitability Critiera\n",
    "\n",
    "# Within 2 km of a state park\n",
    "# 1 km or more away from a 303d stream\n",
    "# More than 5 km from municipal boundaries\n",
    "# More than 401 meters in elevation\n",
    "# On areas of “moderate” slope"
   ]
  },
  {
   "cell_type": "code",
   "execution_count": 8,
   "metadata": {},
   "outputs": [],
   "source": [
    "#Copy DEM and bring in copy\n",
    "dem_suit = \".\\\\dem_suit.tif\"\n",
    "dem = arcpy.Raster(dem)\n",
    "dem.readOnly = False\n",
    "\n",
    "#Remap copy so suitable habitat = 1\n",
    "myRemapRange = arcpy.sa.RemapRange([[400, 470, 1], [0, 400, 0]])\n",
    "demsuit = arcpy.sa.Reclassify(dem, \"VALUE\", myRemapRange)\n",
    "demsuit.save(dem_suit)"
   ]
  },
  {
   "cell_type": "code",
   "execution_count": 9,
   "metadata": {},
   "outputs": [],
   "source": [
    "#Create slope from DEM\n",
    "slope = \".\\slope.tif\"\n",
    "dem = arcpy.Raster(dem)\n",
    "dem.readOnly = False\n",
    "outslope = arcpy.sa.Slope(dem)\n",
    "outslope.save(slope)\n",
    "\n",
    "#Save copy of slope for reclassifying suitability\n",
    "slope_int = \".\\slope_int.tif\"\n",
    "outslope.save(slope_int)\n",
    "\n",
    "#Bring in slope suitablity raster\n",
    "slope_int = arcpy.Raster(slope_int)\n",
    "slope_int.readOnly = False\n",
    "\n",
    "#Reclassify slope as moderate slopes (> 5 degrees) = 1\n",
    "slope_suit = \".\\slope_suit.tif\"\n",
    "myRemapRange = arcpy.sa.RemapRange([[0, 5, 0], [5, 20, 1]])\n",
    "slopesuit = arcpy.sa.Reclassify(slope_int, \"VALUE\", myRemapRange)\n",
    "slopesuit.save(slope_suit)"
   ]
  },
  {
   "cell_type": "code",
   "execution_count": 19,
   "metadata": {},
   "outputs": [
    {
     "data": {
      "text/html": [
       "<h2>Output</h2>true<h2>Messages</h2>Start Time: Monday, March 22, 2021 6:42:53 PM<br/>Succeeded at Monday, March 22, 2021 6:42:53 PM (Elapsed Time: 0.08 seconds)<br/><style>.rendered_html td, .rendered_html th {text-align: left;}.rendered_html tbody {border: 1px solid black;}</style>"
      ],
      "text/plain": [
       "<Result 'true'>"
      ]
     },
     "execution_count": 19,
     "metadata": {},
     "output_type": "execute_result"
    }
   ],
   "source": [
    "#Select state parks in Lancaster County\n",
    "stpark_sel = arcpy.management.SelectLayerByLocation(stpark, \"INTERSECT\", lancaster)\n",
    "\n",
    "#Buffer parks by 2 km to memory layer \n",
    "stparkbuff = \"stpark_buff.shp\"\n",
    "stpark_buff = arcpy.analysis.Buffer(stpark_sel, stparkbuff, \"2 Kilometers\", dissolve_option = 'ALL')\n",
    "\n",
    "#Erase streambuff from Lancaster\n",
    "stparkclip = \"stpark_clip.shp\"\n",
    "arcpy.analysis.Erase(lancaster, stpark_buff, stparkclip)\n",
    "\n",
    "#Convert clip to raster\n",
    "stpark_int = \".\\stpark_int.tif\"\n",
    "arcpy.conversion.PolygonToRaster(stparkclip, \"FID\", stpark_int)\n",
    "\n",
    "#Reclassify stpark suit\n",
    "stparkint = arcpy.Raster(stpark_int)\n",
    "stparkint.readOnly = False\n",
    "\n",
    "stparksuit = arcpy.sa.Reclassify(stparkint, \"Value\", \"0 0;NODATA 1\")\n",
    "stpark_suit = \".\\stpark_suit.tif\"\n",
    "stparksuit.save(stpark_suit)\n",
    "\n",
    "arcpy.management.Delete(stpark_sel)"
   ]
  },
  {
   "cell_type": "code",
   "execution_count": 14,
   "metadata": {},
   "outputs": [
    {
     "data": {
      "text/html": [
       "<h2>Output</h2>true<h2>Messages</h2>Start Time: Monday, March 22, 2021 6:32:16 PM<br/>Succeeded at Monday, March 22, 2021 6:32:16 PM (Elapsed Time: 0.07 seconds)<br/><style>.rendered_html td, .rendered_html th {text-align: left;}.rendered_html tbody {border: 1px solid black;}</style>"
      ],
      "text/plain": [
       "<Result 'true'>"
      ]
     },
     "execution_count": 14,
     "metadata": {},
     "output_type": "execute_result"
    }
   ],
   "source": [
    "#Select streams in Lancaster County\n",
    "stream_sel = arcpy.management.SelectLayerByLocation(streams, \"INTERSECT\", lancaster)\n",
    "\n",
    "#Buffer streams by 1 km\n",
    "streambuff = \"stream_buff.shp\"\n",
    "stream_buff = arcpy.analysis.Buffer(stream_sel, streambuff, \"1 Kilometers\", dissolve_option = 'ALL')\n",
    "\n",
    "#Erase streambuff from Lancaster\n",
    "streamclip = \"stream_clip.shp\"\n",
    "arcpy.analysis.Erase(lancaster, stream_buff, streamclip)\n",
    "\n",
    "#Convert clip to raster\n",
    "stream_int = \".\\stream_int.tif\"\n",
    "arcpy.conversion.PolygonToRaster(streamclip, \"FID\", stream_int)\n",
    "\n",
    "#Reclassify stream suit\n",
    "stream_int = arcpy.Raster(stream_int)\n",
    "stream_int.readOnly = False\n",
    "\n",
    "streamsuit = arcpy.sa.Reclassify(stream_int, \"Value\", \"0 1;NODATA 0\")\n",
    "\n",
    "stream_suit = \".\\stream_suit.tif\"\n",
    "streamsuit.save(stream_suit)\n",
    "\n",
    "arcpy.management.Delete(stream_sel)"
   ]
  },
  {
   "cell_type": "code",
   "execution_count": 16,
   "metadata": {},
   "outputs": [
    {
     "data": {
      "text/html": [
       "<h2>Output</h2>true<h2>Messages</h2>Start Time: Monday, March 22, 2021 6:34:19 PM<br/>Succeeded at Monday, March 22, 2021 6:34:19 PM (Elapsed Time: 0.09 seconds)<br/><style>.rendered_html td, .rendered_html th {text-align: left;}.rendered_html tbody {border: 1px solid black;}</style>"
      ],
      "text/plain": [
       "<Result 'true'>"
      ]
     },
     "execution_count": 16,
     "metadata": {},
     "output_type": "execute_result"
    }
   ],
   "source": [
    "#Select streams in Lancaster County\n",
    "munic_sel = arcpy.management.SelectLayerByLocation(munic, \"INTERSECT\", lancaster)\n",
    "\n",
    "#Buffer streams by 1 km\n",
    "municbuff = \"munic_buff.shp\"\n",
    "munic_buff = arcpy.analysis.Buffer(munic_sel, municbuff, \"5 Kilometers\", dissolve_option = 'ALL')\n",
    "\n",
    "#Erase municbuff from Lancaster\n",
    "munic_clip = \"munic_clip.shp\"\n",
    "arcpy.analysis.Erase(lancaster, munic_buff, munic_clip)\n",
    "\n",
    "#Convert clip to raster\n",
    "munic_int = \".\\munic_int.tif\"\n",
    "arcpy.conversion.PolygonToRaster(munic_clip, \"FID\", munic_int)\n",
    "\n",
    "#Reclassify stream suit\n",
    "munic_int = arcpy.Raster(munic_int)\n",
    "munic_int.readOnly = False\n",
    "\n",
    "municsuit = arcpy.sa.Reclassify(munic_int, \"Value\", \"0 1;NODATA 0\")\n",
    "\n",
    "munic_suit = \".\\munic_suit.tif\"\n",
    "municsuit.save(munic_suit)\n",
    "\n",
    "arcpy.management.Delete(munic_buff, munic_clip)\n",
    "arcpy.management.Delete(munic_sel)"
   ]
  },
  {
   "cell_type": "code",
   "execution_count": 5,
   "metadata": {},
   "outputs": [],
   "source": [
    "#Bring in rasters\n",
    "munic_suit = \".\\munic_suit.tif\"\n",
    "dem_suit = \".\\\\dem_suit.tif\"\n",
    "slope_suit = \".\\slope_suit.tif\"\n",
    "stream_suit = \".\\stream_suit.tif\"\n",
    "stpark_suit = \".\\stpark_suit.tif\"\n",
    "\n",
    "munic_suit = arcpy.Raster(munic_suit)\n",
    "munic_suit.readOnly = False\n",
    "dem_suit = arcpy.Raster(dem_suit)\n",
    "dem_suit.readOnly = False\n",
    "slope_suit = arcpy.Raster(slope_suit)\n",
    "slope_suit.readOnly = False\n",
    "stream_suit = arcpy.Raster(stream_suit)\n",
    "stream_suit.readOnly = False\n",
    "stpark_suit = arcpy.Raster(stpark_suit)\n",
    "stpark_suit.readOnly = False\n",
    "\n",
    "suitable = munic_suit + dem_suit + slope_suit + stream_suit + stpark_suit\n",
    "\n",
    "#Reclass suitable\n",
    "myRemapRange = arcpy.sa.RemapRange([[0, 4, 0], [5, 5, 1]])\n",
    "suit_rec = arcpy.sa.Reclassify(suitable, 'Value', myRemapRange)\n",
    "\n",
    "all_suit = \".\\suitable.tif\"\n",
    "suit_rec.save(all_suit)"
   ]
  }
 ],
 "metadata": {
  "kernelspec": {
   "display_name": "Python 3",
   "language": "python",
   "name": "python3"
  },
  "language_info": {
   "codemirror_mode": {
    "name": "ipython",
    "version": 3
   },
   "file_extension": ".py",
   "mimetype": "text/x-python",
   "name": "python",
   "nbconvert_exporter": "python",
   "pygments_lexer": "ipython3",
   "version": "3.8.8"
  }
 },
 "nbformat": 4,
 "nbformat_minor": 2
}
